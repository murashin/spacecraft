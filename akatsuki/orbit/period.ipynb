{
 "cells": [
  {
   "cell_type": "code",
   "execution_count": 5,
   "metadata": {},
   "outputs": [
    {
     "data": {
      "image/png": "[encoded data removed]",
      "text/plain": [
       "<Figure size 432x288 with 1 Axes>"
      ]
     },
     "metadata": {
      "needs_background": "light"
     },
     "output_type": "display_data"
    }
   ],
   "source": [
    "%matplotlib inline\n",
    "\n",
    "import numpy as np\n",
    "import pandas as pd\n",
    "import matplotlib.pyplot as plt\n",
    "import matplotlib.dates as mdates\n",
    "from pandas.plotting import register_matplotlib_converters\n",
    "register_matplotlib_converters()\n",
    "\n",
    "# Both of data_url_prefix will be available.\n",
    "data_url_prefix = 'https://naif.jpl.nasa.gov/pub/naif/pds/data/'\n",
    "# data_url_prefix = 'http://darts.isas.jaxa.jp/pub/pds3/'\n",
    "\n",
    "# vco_v??.orb can be updated if new orbit number file is available.\n",
    "data_url_filepath = 'vco-v-spice-6-v1.0/vcosp_1000/extras/orbnum/vco_v03.orb'\n",
    "\n",
    "data_url = data_url_prefix + data_url_filepath\n",
    "\n",
    "\n",
    "def _dp(_date):\n",
    "    _fmt = '%Y-%m-%d %H:%M:%S'\n",
    "    _tbl = {' JAN ': '-01-',\n",
    "            ' FEB ': '-02-',\n",
    "            ' MAR ': '-03-',\n",
    "            ' APR ': '-04-',\n",
    "            ' MAY ': '-05-',\n",
    "            ' JUN ': '-06-',\n",
    "            ' JUL ': '-07-',\n",
    "            ' AUG ': '-08-',\n",
    "            ' SEP ': '-09-',\n",
    "            ' OCT ': '-10-',\n",
    "            ' NOV ': '-11-',\n",
    "            ' DEC ': '-12-'\n",
    "           }\n",
    "    for key in _tbl.keys():\n",
    "        _date = _date.replace(key, _tbl[key])\n",
    "    return pd.datetime.strptime(_date, _fmt)\n",
    "\n",
    "\n",
    "def main():\n",
    "    df = pd.read_fwf(data_url,\n",
    "                     colspecs=((0, 6), (7, 27)),\n",
    "                     header=1,\n",
    "                     names=('orbnum', 'utc'),\n",
    "                     parse_dates=[1],\n",
    "                     date_parser=_dp)\n",
    "\n",
    "    sec_of_day = 86400.0\n",
    "    df['period'] = df.utc.diff(periods=1).astype('timedelta64[s]')/sec_of_day\n",
    "\n",
    "    ax = plt.axes()\n",
    "    plt.plot(df.utc, df.period, marker='+')\n",
    "    plt.xlabel('date/time')\n",
    "    plt.ylabel('period')\n",
    "    plt.ylim(10.0, 14.0)\n",
    "\n",
    "    ax.xaxis.set_major_locator(mdates.MonthLocator(interval=6))\n",
    "    ax.xaxis.set_major_formatter(mdates.DateFormatter('%Y-%m'))\n",
    "\n",
    "    plt.show()\n",
    "\n",
    "\n",
    "if __name__ == '__main__':\n",
    "    main()"
   ]
  }
 ],
 "metadata": {
  "kernelspec": {
   "display_name": "Python 3",
   "language": "python",
   "name": "python3"
  },
  "language_info": {
   "codemirror_mode": {
    "name": "ipython",
    "version": 3
   },
   "file_extension": ".py",
   "mimetype": "text/x-python",
   "name": "python",
   "nbconvert_exporter": "python",
   "pygments_lexer": "ipython3",
   "version": "3.7.6"
  }
 },
 "nbformat": 4,
 "nbformat_minor": 2
}
